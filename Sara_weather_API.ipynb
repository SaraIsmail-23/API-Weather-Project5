{
 "cells": [
  {
   "cell_type": "code",
   "execution_count": 2,
   "id": "cacfb89b",
   "metadata": {},
   "outputs": [],
   "source": [
    "my_key = 'b6bd007da49c31a83f02fee2a0434fa2' # put the key of API here as a string\n",
    "#url = f'https://api.openweathermap.org/data/3.0/onecall?lat={lat}&lon={lon}&exclude={part}&appid={API key}\n",
    "# this is the API call url\n",
    "# let is start coding for waether of Cairo\n",
    "\n",
    "# units\toptional:\n",
    "# Units of measurement. standard, metric and imperial units are available. If you do not use the units parameter, standard units will be applied by default."
   ]
  },
  {
   "cell_type": "code",
   "execution_count": 3,
   "id": "5bc0e77a",
   "metadata": {},
   "outputs": [
    {
     "data": {
      "text/plain": [
       "200"
      ]
     },
     "execution_count": 3,
     "metadata": {},
     "output_type": "execute_result"
    }
   ],
   "source": [
    "import requests\n",
    "my_key = 'b6bd007da49c31a83f02fee2a0434fa2'\n",
    "city = 'Cairo'\n",
    "url = f'https://api.openweathermap.org/data/2.5/weather?q={city}&units=metric&appid={my_key}'\n",
    "# I added &units=metric to get the temperature in Celsius not in Kelvin\n",
    "# finally the url is from documentation in website of openweathermap\n",
    "\n",
    "response = requests.get(url)\n",
    "response.status_code"
   ]
  },
  {
   "cell_type": "code",
   "execution_count": 4,
   "id": "cd5eab81",
   "metadata": {},
   "outputs": [
    {
     "data": {
      "text/plain": [
       "{'coord': {'lon': 31.2497, 'lat': 30.0626},\n",
       " 'weather': [{'id': 801,\n",
       "   'main': 'Clouds',\n",
       "   'description': 'few clouds',\n",
       "   'icon': '02n'}],\n",
       " 'base': 'stations',\n",
       " 'main': {'temp': 23.42,\n",
       "  'feels_like': 23.38,\n",
       "  'temp_min': 23.01,\n",
       "  'temp_max': 23.42,\n",
       "  'pressure': 1017,\n",
       "  'humidity': 60,\n",
       "  'sea_level': 1017,\n",
       "  'grnd_level': 1012},\n",
       " 'visibility': 10000,\n",
       " 'wind': {'speed': 6.17, 'deg': 360},\n",
       " 'clouds': {'all': 20},\n",
       " 'dt': 1759695237,\n",
       " 'sys': {'type': 1,\n",
       "  'id': 2514,\n",
       "  'country': 'EG',\n",
       "  'sunrise': 1759636231,\n",
       "  'sunset': 1759678566},\n",
       " 'timezone': 10800,\n",
       " 'id': 360630,\n",
       " 'name': 'Cairo',\n",
       " 'cod': 200}"
      ]
     },
     "execution_count": 4,
     "metadata": {},
     "output_type": "execute_result"
    }
   ],
   "source": [
    "data = response.json()\n",
    "data\n",
    "# this is data about weather in Cairo\n",
    "# now I will extract the temperature from this data that is in celsius"
   ]
  },
  {
   "cell_type": "code",
   "execution_count": 5,
   "id": "459984e1",
   "metadata": {},
   "outputs": [
    {
     "data": {
      "text/plain": [
       "{'temp': 23.42,\n",
       " 'feels_like': 23.38,\n",
       " 'temp_min': 23.01,\n",
       " 'temp_max': 23.42,\n",
       " 'pressure': 1017,\n",
       " 'humidity': 60,\n",
       " 'sea_level': 1017,\n",
       " 'grnd_level': 1012}"
      ]
     },
     "execution_count": 5,
     "metadata": {},
     "output_type": "execute_result"
    }
   ],
   "source": [
    "data['main']"
   ]
  },
  {
   "cell_type": "code",
   "execution_count": 6,
   "id": "57710917",
   "metadata": {},
   "outputs": [
    {
     "data": {
      "text/plain": [
       "23.42"
      ]
     },
     "execution_count": 6,
     "metadata": {},
     "output_type": "execute_result"
    }
   ],
   "source": [
    "data['main']['temp']"
   ]
  },
  {
   "cell_type": "code",
   "execution_count": 7,
   "id": "4b687d0e",
   "metadata": {},
   "outputs": [
    {
     "data": {
      "text/plain": [
       "23.42"
      ]
     },
     "execution_count": 7,
     "metadata": {},
     "output_type": "execute_result"
    }
   ],
   "source": [
    "data['main']['temp_max']"
   ]
  },
  {
   "cell_type": "code",
   "execution_count": 8,
   "id": "06df9bc0",
   "metadata": {},
   "outputs": [
    {
     "data": {
      "text/plain": [
       "200"
      ]
     },
     "execution_count": 8,
     "metadata": {},
     "output_type": "execute_result"
    }
   ],
   "source": [
    "data['cod']"
   ]
  },
  {
   "cell_type": "code",
   "execution_count": 65,
   "id": "c2279fee",
   "metadata": {},
   "outputs": [],
   "source": [
    "# remember if txt = temp then, text.title() = Temp : first letter is capitalized\n",
    "# create first function to display data in a good way not to store it in a varriable\n",
    "import requests\n",
    "def display_weather(data_dict):\n",
    "    for key, value in data_dict.items():\n",
    "        print(f'{key.title()}: {value}') # just formatting outputs\n",
    "\n",
    "# create second function to get weather data from API, knowig that data['main'] is the main source of data\n",
    "def get_weather(city):      \n",
    "    my_key = 'b6bd007da49c31a83f02fee2a0434fa2'\n",
    "    url = f'https://api.openweathermap.org/data/2.5/weather?q={city}&units=metric&appid={my_key}'\n",
    "    response = requests.get(url)\n",
    "    data = response.json()\n",
    "    #city = data['name']   what ever this line is added or not, it will work the same\n",
    "    if data['cod'] != 200: # to check if the city name is correct or not\n",
    "        # do not not print(response.status_code) as it is the general request not the real data on weather if json file\n",
    "        print(str(data['cod']))\n",
    "        return 'City is not Found'\n",
    "    else:\n",
    "        print(f'Weather in {data[\"name\"]}') # data['name'] = city ...is the name in the json file \n",
    "        #print(f'Weather in {city}') # to print the city name that I entered\n",
    "        return display_weather(data['main'])\n",
    "\n",
    "        # or weather_data = data['main']\n",
    "        # &  return weather_data\n"
   ]
  },
  {
   "cell_type": "code",
   "execution_count": 66,
   "id": "2d699d7c",
   "metadata": {},
   "outputs": [
    {
     "name": "stdout",
     "output_type": "stream",
     "text": [
      "Weather in Cairo\n",
      "Temp: 25.42\n",
      "Feels_Like: 25.24\n",
      "Temp_Min: 25.23\n",
      "Temp_Max: 25.42\n",
      "Pressure: 1016\n",
      "Humidity: 47\n",
      "Sea_Level: 1016\n",
      "Grnd_Level: 1011\n"
     ]
    }
   ],
   "source": [
    "get_weather('Cairo')"
   ]
  },
  {
   "cell_type": "code",
   "execution_count": 67,
   "id": "d86df3a5",
   "metadata": {},
   "outputs": [
    {
     "name": "stdout",
     "output_type": "stream",
     "text": [
      "Weather in Amsterdam\n",
      "Temp: 14.03\n",
      "Feels_Like: 13.71\n",
      "Temp_Min: 13.26\n",
      "Temp_Max: 14.44\n",
      "Pressure: 1021\n",
      "Humidity: 85\n",
      "Sea_Level: 1021\n",
      "Grnd_Level: 1021\n"
     ]
    }
   ],
   "source": [
    "get_weather('Amsterdam')"
   ]
  },
  {
   "cell_type": "code",
   "execution_count": 68,
   "id": "3fc047ed",
   "metadata": {},
   "outputs": [
    {
     "name": "stdout",
     "output_type": "stream",
     "text": [
      "Weather in London\n",
      "Temp: 11.98\n",
      "Feels_Like: 11.43\n",
      "Temp_Min: 11.06\n",
      "Temp_Max: 13.4\n",
      "Pressure: 1024\n",
      "Humidity: 84\n",
      "Sea_Level: 1024\n",
      "Grnd_Level: 1020\n"
     ]
    }
   ],
   "source": [
    "get_weather('London')"
   ]
  },
  {
   "cell_type": "code",
   "execution_count": null,
   "id": "565aad56",
   "metadata": {},
   "outputs": [
    {
     "name": "stdout",
     "output_type": "stream",
     "text": [
      "404\n"
     ]
    },
    {
     "data": {
      "text/plain": [
       "'City is not Found'"
      ]
     },
     "execution_count": 69,
     "metadata": {},
     "output_type": "execute_result"
    }
   ],
   "source": [
    "# if you put a wrong name , city is not found as you handle it and you already have request from site \n",
    "# i choose to print the cod of json file print(data['cod']) to know the error\n",
    "# data['cod'] = 404 = refer to status of the json file in which city is not found\n",
    "# data['cod'] = x200 = refer to status of the json file in which city is found\n",
    "get_weather('abv')"
   ]
  },
  {
   "cell_type": "code",
   "execution_count": 73,
   "id": "78c8bb52",
   "metadata": {},
   "outputs": [
    {
     "name": "stdout",
     "output_type": "stream",
     "text": [
      "Overwriting Sara_weather_API.ipy\n"
     ]
    }
   ],
   "source": [
    "%%writefile Sara_weather_API.ipy\n",
    "import requests\n",
    "def display_weather(data_dict):\n",
    "    for key, value in data_dict.items():\n",
    "        print(f'{key.title()}: {value}')\n",
    "\n",
    "def get_weather(city):      \n",
    "    my_key = 'b6bd007da49c31a83f02fee2a0434fa2'\n",
    "    url = f'https://api.openweathermap.org/data/2.5/weather?q={city}&units=metric&appid={my_key}'\n",
    "    response = requests.get(url)\n",
    "    data = response.json()\n",
    "    if data['cod'] != 200:\n",
    "        print(str(data['cod']))\n",
    "        return 'City is not Found'\n",
    "    else:\n",
    "        print(f'** Weather in {data[\"name\"]} **')\n",
    "        print('*'* 10)\n",
    "        return display_weather(data['main'])\n",
    "\n",
    "def main(): \n",
    "    while True:\n",
    "        city = input('Enter city : ')\n",
    "        get_weather(city)\n",
    "        again = input('Do you want to check another city? (y/n) : ')\n",
    "        if again == 'n':\n",
    "            print('Bye!')\n",
    "            break\n",
    "\n",
    "if __name__ == '__main__':\n",
    "    main()          "
   ]
  }
 ],
 "metadata": {
  "kernelspec": {
   "display_name": "base",
   "language": "python",
   "name": "python3"
  },
  "language_info": {
   "codemirror_mode": {
    "name": "ipython",
    "version": 3
   },
   "file_extension": ".py",
   "mimetype": "text/x-python",
   "name": "python",
   "nbconvert_exporter": "python",
   "pygments_lexer": "ipython3",
   "version": "3.12.7"
  }
 },
 "nbformat": 4,
 "nbformat_minor": 5
}
